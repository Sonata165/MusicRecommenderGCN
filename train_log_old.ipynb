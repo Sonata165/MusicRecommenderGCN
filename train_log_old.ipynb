{
 "cells": [
  {
   "cell_type": "code",
   "execution_count": 1,
   "id": "a8d85f91",
   "metadata": {
    "pycharm": {
     "name": "#%%\n"
    }
   },
   "outputs": [],
   "source": [
    "from train import train"
   ]
  },
  {
   "cell_type": "code",
   "execution_count": 4,
   "id": "a10fcf31",
   "metadata": {
    "pycharm": {
     "name": "#%%\n"
    }
   },
   "outputs": [
    {
     "name": "stdout",
     "output_type": "stream",
     "text": [
      "Epoch: 000 | Train Loss: 5.5697, MAE: 1.2526 | Valid Loss: 0.1644, MAE: 0.3286\n",
      "Epoch: 001 | Train Loss: 0.1410, MAE: 0.3212 | Valid Loss: 0.1243, MAE: 0.3024\n",
      "Epoch: 002 | Train Loss: 0.1191, MAE: 0.2958 | Valid Loss: 0.1084, MAE: 0.2831\n",
      "Epoch: 003 | Train Loss: 0.1013, MAE: 0.2714 | Valid Loss: 0.0918, MAE: 0.2594\n",
      "Epoch: 004 | Train Loss: 0.0833, MAE: 0.2443 | Valid Loss: 0.0809, MAE: 0.2433\n",
      "Epoch: 005 | Train Loss: 0.0663, MAE: 0.2151 | Valid Loss: 0.0630, MAE: 0.2123\n",
      "Epoch: 006 | Train Loss: 0.0508, MAE: 0.1851 | Valid Loss: 0.0522, MAE: 0.1926\n",
      "Epoch: 007 | Train Loss: 0.0400, MAE: 0.1608 | Valid Loss: 0.0345, MAE: 0.1487\n",
      "Epoch: 008 | Train Loss: 0.0322, MAE: 0.1412 | Valid Loss: 0.0312, MAE: 0.1397\n",
      "Epoch: 009 | Train Loss: 0.0293, MAE: 0.1329 | Valid Loss: 0.0285, MAE: 0.1307\n",
      "Epoch: 010 | Train Loss: 0.0281, MAE: 0.1289 | Valid Loss: 0.0279, MAE: 0.1284\n",
      "Epoch: 011 | Train Loss: 0.0278, MAE: 0.1275 | Valid Loss: 0.0275, MAE: 0.1267\n",
      "Epoch: 012 | Train Loss: 0.0275, MAE: 0.1266 | Valid Loss: 0.0278, MAE: 0.1280\n",
      "Epoch: 013 | Train Loss: 0.0275, MAE: 0.1265 | Valid Loss: 0.0282, MAE: 0.1294\n",
      "Epoch: 014 | Train Loss: 0.0275, MAE: 0.1262 | Valid Loss: 0.0272, MAE: 0.1250\n",
      "Epoch: 015 | Train Loss: 0.0273, MAE: 0.1256 | Valid Loss: 0.0272, MAE: 0.1254\n",
      "Epoch: 016 | Train Loss: 0.0273, MAE: 0.1255 | Valid Loss: 0.0273, MAE: 0.1261\n",
      "Epoch: 017 | Train Loss: 0.0272, MAE: 0.1255 | Valid Loss: 0.0272, MAE: 0.1254\n",
      "Epoch: 018 | Train Loss: 0.0272, MAE: 0.1253 | Valid Loss: 0.0273, MAE: 0.1260\n",
      "Epoch: 019 | Train Loss: 0.0273, MAE: 0.1256 | Valid Loss: 0.0274, MAE: 0.1262\n",
      "Test result: Loss: 0.0271, MAE: 0.1254\n"
     ]
    }
   ],
   "source": [
    "# Naive GCN\n",
    "hparams = {\n",
    "    'device': 'cuda:0',\n",
    "    'num_layers': 2,\n",
    "    'batch_size': 4096,\n",
    "    'lr': 0.01,\n",
    "    'decay': 0.9,\n",
    "    'epochs': 20,\n",
    "    'in_dim': 1,\n",
    "    'd_model': 64,\n",
    "    'edge_as_weight': False,\n",
    "    'attn': False,\n",
    "    'augment': False,\n",
    "}\n",
    "train(hparams)"
   ]
  },
  {
   "cell_type": "code",
   "execution_count": 8,
   "id": "76c08bee",
   "metadata": {
    "pycharm": {
     "name": "#%%\n"
    }
   },
   "outputs": [
    {
     "name": "stdout",
     "output_type": "stream",
     "text": [
      "Epoch: 000 | Train Loss: 1.0985, MAE: 0.6298 | Valid Loss: 0.1128, MAE: 0.2847\n",
      "Epoch: 001 | Train Loss: 0.1005, MAE: 0.2701 | Valid Loss: 0.0916, MAE: 0.2623\n",
      "Epoch: 002 | Train Loss: 0.0724, MAE: 0.2269 | Valid Loss: 0.0564, MAE: 0.2016\n",
      "Epoch: 003 | Train Loss: 0.0410, MAE: 0.1655 | Valid Loss: 0.0332, MAE: 0.1498\n",
      "Epoch: 004 | Train Loss: 0.0279, MAE: 0.1305 | Valid Loss: 0.0232, MAE: 0.1181\n",
      "Epoch: 005 | Train Loss: 0.0226, MAE: 0.1145 | Valid Loss: 0.0233, MAE: 0.1185\n",
      "Epoch: 006 | Train Loss: 0.0222, MAE: 0.1128 | Valid Loss: 0.0229, MAE: 0.1168\n",
      "Epoch: 007 | Train Loss: 0.0219, MAE: 0.1119 | Valid Loss: 0.0218, MAE: 0.1126\n",
      "Epoch: 008 | Train Loss: 0.0218, MAE: 0.1111 | Valid Loss: 0.0218, MAE: 0.1127\n",
      "Epoch: 009 | Train Loss: 0.0217, MAE: 0.1110 | Valid Loss: 0.0217, MAE: 0.1121\n",
      "Epoch: 010 | Train Loss: 0.0217, MAE: 0.1110 | Valid Loss: 0.0215, MAE: 0.1114\n",
      "Epoch: 011 | Train Loss: 0.0216, MAE: 0.1107 | Valid Loss: 0.0216, MAE: 0.1117\n",
      "Epoch: 012 | Train Loss: 0.0217, MAE: 0.1109 | Valid Loss: 0.0215, MAE: 0.1115\n",
      "Epoch: 013 | Train Loss: 0.0217, MAE: 0.1109 | Valid Loss: 0.0213, MAE: 0.1107\n",
      "Epoch: 014 | Train Loss: 0.0216, MAE: 0.1107 | Valid Loss: 0.0214, MAE: 0.1109\n",
      "Epoch: 015 | Train Loss: 0.0216, MAE: 0.1105 | Valid Loss: 0.0213, MAE: 0.1106\n",
      "Epoch: 016 | Train Loss: 0.0216, MAE: 0.1106 | Valid Loss: 0.0213, MAE: 0.1104\n",
      "Epoch: 017 | Train Loss: 0.0216, MAE: 0.1106 | Valid Loss: 0.0212, MAE: 0.1101\n",
      "Epoch: 018 | Train Loss: 0.0215, MAE: 0.1105 | Valid Loss: 0.0212, MAE: 0.1100\n",
      "Epoch: 019 | Train Loss: 0.0216, MAE: 0.1105 | Valid Loss: 0.0212, MAE: 0.1100\n",
      "Test result: Loss: 0.0210, MAE: 0.1094\n"
     ]
    }
   ],
   "source": [
    "# Edge as weight\n",
    "hparams = {\n",
    "    'device': 'cuda:0',\n",
    "    'num_layers': 2,\n",
    "    'batch_size': 4096,\n",
    "    'lr': 0.01,\n",
    "    'decay': 0.8,\n",
    "    'epochs': 20,\n",
    "    'in_dim': 1,\n",
    "    'd_model': 64,\n",
    "    'edge_as_weight': True,\n",
    "    'attn': False,\n",
    "    'augment': False,\n",
    "}\n",
    "train(hparams)"
   ]
  },
  {
   "cell_type": "code",
   "execution_count": 7,
   "id": "0edb537d",
   "metadata": {
    "pycharm": {
     "name": "#%%\n"
    }
   },
   "outputs": [
    {
     "name": "stdout",
     "output_type": "stream",
     "text": [
      "Epoch: 000 | Train Loss: 0.4908, MAE: 0.4520 | Valid Loss: 0.0927, MAE: 0.2610\n",
      "Epoch: 001 | Train Loss: 0.0724, MAE: 0.2258 | Valid Loss: 0.0535, MAE: 0.1928\n",
      "Epoch: 002 | Train Loss: 0.0408, MAE: 0.1630 | Valid Loss: 0.0406, MAE: 0.1667\n",
      "Epoch: 003 | Train Loss: 0.0277, MAE: 0.1299 | Valid Loss: 0.0289, MAE: 0.1367\n",
      "Epoch: 004 | Train Loss: 0.0230, MAE: 0.1166 | Valid Loss: 0.0244, MAE: 0.1227\n",
      "Epoch: 005 | Train Loss: 0.0214, MAE: 0.1121 | Valid Loss: 0.0222, MAE: 0.1146\n",
      "Epoch: 006 | Train Loss: 0.0207, MAE: 0.1098 | Valid Loss: 0.0211, MAE: 0.1113\n",
      "Epoch: 007 | Train Loss: 0.0203, MAE: 0.1090 | Valid Loss: 0.0210, MAE: 0.1110\n",
      "Epoch: 008 | Train Loss: 0.0201, MAE: 0.1083 | Valid Loss: 0.0217, MAE: 0.1141\n",
      "Epoch: 009 | Train Loss: 0.0200, MAE: 0.1082 | Valid Loss: 0.0206, MAE: 0.1099\n",
      "Epoch: 010 | Train Loss: 0.0197, MAE: 0.1070 | Valid Loss: 0.0207, MAE: 0.1108\n",
      "Epoch: 011 | Train Loss: 0.0196, MAE: 0.1067 | Valid Loss: 0.0208, MAE: 0.1113\n",
      "Epoch: 012 | Train Loss: 0.0194, MAE: 0.1064 | Valid Loss: 0.0201, MAE: 0.1086\n",
      "Epoch: 013 | Train Loss: 0.0193, MAE: 0.1059 | Valid Loss: 0.0203, MAE: 0.1094\n",
      "Epoch: 014 | Train Loss: 0.0192, MAE: 0.1058 | Valid Loss: 0.0196, MAE: 0.1067\n",
      "Epoch: 015 | Train Loss: 0.0190, MAE: 0.1052 | Valid Loss: 0.0194, MAE: 0.1057\n",
      "Epoch: 016 | Train Loss: 0.0189, MAE: 0.1048 | Valid Loss: 0.0193, MAE: 0.1057\n",
      "Epoch: 017 | Train Loss: 0.0189, MAE: 0.1048 | Valid Loss: 0.0193, MAE: 0.1058\n",
      "Epoch: 018 | Train Loss: 0.0188, MAE: 0.1046 | Valid Loss: 0.0192, MAE: 0.1053\n",
      "Epoch: 019 | Train Loss: 0.0188, MAE: 0.1044 | Valid Loss: 0.0192, MAE: 0.1051\n",
      "Test result: Loss: 0.0185, MAE: 0.1033\n"
     ]
    }
   ],
   "source": [
    "# With attention\n",
    "hparams = {\n",
    "    # 'device': 'cpu',\n",
    "    'device': 'cuda:0',\n",
    "    'num_layers': 2,\n",
    "    'batch_size': 4096,\n",
    "    'lr': 0.01,\n",
    "    'decay': 0.8,\n",
    "    'epochs': 20,\n",
    "    'in_dim': 1,\n",
    "    'd_model': 64,\n",
    "    'edge_as_weight': True,\n",
    "    'attn': True,\n",
    "    'augment': False,\n",
    "}\n",
    "train(hparams)"
   ]
  },
  {
   "cell_type": "code",
   "execution_count": 9,
   "id": "6b36ce27",
   "metadata": {
    "pycharm": {
     "name": "#%%\n"
    }
   },
   "outputs": [
    {
     "name": "stdout",
     "output_type": "stream",
     "text": [
      "Epoch: 000 | Train Loss: 0.5865, MAE: 0.4618 | Valid Loss: 0.0932, MAE: 0.2684\n",
      "Epoch: 001 | Train Loss: 0.0534, MAE: 0.1881 | Valid Loss: 0.0321, MAE: 0.1455\n",
      "Epoch: 002 | Train Loss: 0.0518, MAE: 0.1729 | Valid Loss: 0.0334, MAE: 0.1497\n",
      "Epoch: 003 | Train Loss: 0.0246, MAE: 0.1221 | Valid Loss: 0.0238, MAE: 0.1217\n",
      "Epoch: 004 | Train Loss: 0.0202, MAE: 0.1089 | Valid Loss: 0.0189, MAE: 0.1057\n",
      "Epoch: 005 | Train Loss: 0.0183, MAE: 0.1025 | Valid Loss: 0.0179, MAE: 0.1020\n",
      "Epoch: 006 | Train Loss: 0.0176, MAE: 0.1002 | Valid Loss: 0.0179, MAE: 0.1013\n",
      "Epoch: 007 | Train Loss: 0.0173, MAE: 0.0990 | Valid Loss: 0.0173, MAE: 0.0992\n",
      "Epoch: 008 | Train Loss: 0.0171, MAE: 0.0984 | Valid Loss: 0.0169, MAE: 0.0979\n",
      "Epoch: 009 | Train Loss: 0.0170, MAE: 0.0980 | Valid Loss: 0.0165, MAE: 0.0969\n",
      "Epoch: 010 | Train Loss: 0.0169, MAE: 0.0974 | Valid Loss: 0.0166, MAE: 0.0974\n",
      "Epoch: 011 | Train Loss: 0.0169, MAE: 0.0974 | Valid Loss: 0.0167, MAE: 0.0975\n",
      "Epoch: 012 | Train Loss: 0.0169, MAE: 0.0972 | Valid Loss: 0.0164, MAE: 0.0964\n",
      "Epoch: 013 | Train Loss: 0.0168, MAE: 0.0970 | Valid Loss: 0.0164, MAE: 0.0963\n",
      "Epoch: 014 | Train Loss: 0.0168, MAE: 0.0970 | Valid Loss: 0.0163, MAE: 0.0962\n",
      "Epoch: 015 | Train Loss: 0.0167, MAE: 0.0968 | Valid Loss: 0.0162, MAE: 0.0959\n",
      "Epoch: 016 | Train Loss: 0.0168, MAE: 0.0970 | Valid Loss: 0.0162, MAE: 0.0957\n",
      "Epoch: 017 | Train Loss: 0.0167, MAE: 0.0967 | Valid Loss: 0.0162, MAE: 0.0961\n",
      "Epoch: 018 | Train Loss: 0.0167, MAE: 0.0967 | Valid Loss: 0.0162, MAE: 0.0959\n",
      "Epoch: 019 | Train Loss: 0.0168, MAE: 0.0970 | Valid Loss: 0.0162, MAE: 0.0956\n",
      "Test result: Loss: 0.0170, MAE: 0.0978\n"
     ]
    }
   ],
   "source": [
    "# With augmentation\n",
    "hparams = {\n",
    "    # 'device': 'cpu',\n",
    "    'device': 'cuda:0',\n",
    "    'num_layers': 2,\n",
    "    'batch_size': 4096,\n",
    "    'lr': 0.01,\n",
    "    'decay': 0.8,\n",
    "    'epochs': 20,\n",
    "    'in_dim': 1,\n",
    "    'd_model': 64,\n",
    "    'edge_as_weight': True,\n",
    "    'attn': True,\n",
    "    'augment': True,\n",
    "}\n",
    "train(hparams)"
   ]
  }
 ],
 "metadata": {
  "kernelspec": {
   "display_name": "Python 3 (ipykernel)",
   "language": "python",
   "name": "python3"
  },
  "language_info": {
   "codemirror_mode": {
    "name": "ipython",
    "version": 3
   },
   "file_extension": ".py",
   "mimetype": "text/x-python",
   "name": "python",
   "nbconvert_exporter": "python",
   "pygments_lexer": "ipython3",
   "version": "3.9.12"
  }
 },
 "nbformat": 4,
 "nbformat_minor": 5
}